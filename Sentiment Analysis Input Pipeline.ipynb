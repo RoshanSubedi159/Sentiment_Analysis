{
 "cells": [
  {
   "cell_type": "code",
   "execution_count": 1,
   "metadata": {
    "id": "EQLCwNv53E5c"
   },
   "outputs": [],
   "source": [
    "import numpy as np"
   ]
  },
  {
   "cell_type": "code",
   "execution_count": 29,
   "metadata": {
    "executionInfo": {
     "elapsed": 11779,
     "status": "ok",
     "timestamp": 1672301532084,
     "user": {
      "displayName": "Roshan Subedi",
      "userId": "00027088330927097423"
     },
     "user_tz": -345
    },
    "id": "3T_5l7I73E5j"
   },
   "outputs": [],
   "source": [
    "with open('movie-xids.npy', 'rb') as f:\n",
    "    Xids = np.load(f, allow_pickle = True).astype(\"int32\")\n",
    "    \n",
    "with open('movie-xmask.npy', 'rb') as f:\n",
    "    Xmask = np.load(f, allow_pickle = True).astype(\"int32\")\n",
    "    \n",
    "with open('movie-labels.npy', 'rb') as f:\n",
    "    labels = np.load(f, allow_pickle = True)"
   ]
  },
  {
   "cell_type": "code",
   "execution_count": 30,
   "metadata": {
    "colab": {
     "base_uri": "https://localhost:8080/"
    },
    "executionInfo": {
     "elapsed": 561,
     "status": "ok",
     "timestamp": 1672301541082,
     "user": {
      "displayName": "Roshan Subedi",
      "userId": "00027088330927097423"
     },
     "user_tz": -345
    },
    "id": "Njkhekhl3E5l",
    "outputId": "c1c73bc8-a1ac-4341-c66f-a3678f04c056"
   },
   "outputs": [
    {
     "data": {
      "text/plain": [
       "(156060, 512)"
      ]
     },
     "execution_count": 30,
     "metadata": {},
     "output_type": "execute_result"
    }
   ],
   "source": [
    "Xids.shape"
   ]
  },
  {
   "cell_type": "code",
   "execution_count": 31,
   "metadata": {
    "colab": {
     "base_uri": "https://localhost:8080/"
    },
    "executionInfo": {
     "elapsed": 9,
     "status": "ok",
     "timestamp": 1672301542838,
     "user": {
      "displayName": "Roshan Subedi",
      "userId": "00027088330927097423"
     },
     "user_tz": -345
    },
    "id": "bAjlmHDG3E5o",
    "outputId": "ce2f3d6f-a0e3-4f9f-ab40-ec7421d4e233"
   },
   "outputs": [
    {
     "data": {
      "text/plain": [
       "(156060, 5)"
      ]
     },
     "execution_count": 31,
     "metadata": {},
     "output_type": "execute_result"
    }
   ],
   "source": [
    "labels.shape"
   ]
  },
  {
   "cell_type": "code",
   "execution_count": 32,
   "metadata": {
    "colab": {
     "base_uri": "https://localhost:8080/"
    },
    "executionInfo": {
     "elapsed": 4,
     "status": "ok",
     "timestamp": 1672301544574,
     "user": {
      "displayName": "Roshan Subedi",
      "userId": "00027088330927097423"
     },
     "user_tz": -345
    },
    "id": "SfQyzyYw3E5q",
    "outputId": "c768feb9-3fbe-457c-c75a-43893ff82d05"
   },
   "outputs": [
    {
     "data": {
      "text/plain": [
       "array([[0., 1., 0., 0., 0.],\n",
       "       [0., 0., 1., 0., 0.],\n",
       "       [0., 0., 1., 0., 0.],\n",
       "       ...,\n",
       "       [0., 0., 0., 1., 0.],\n",
       "       [0., 0., 1., 0., 0.],\n",
       "       [0., 0., 1., 0., 0.]])"
      ]
     },
     "execution_count": 32,
     "metadata": {},
     "output_type": "execute_result"
    }
   ],
   "source": [
    "labels"
   ]
  },
  {
   "cell_type": "code",
   "execution_count": 33,
   "metadata": {
    "executionInfo": {
     "elapsed": 2282,
     "status": "ok",
     "timestamp": 1672301548702,
     "user": {
      "displayName": "Roshan Subedi",
      "userId": "00027088330927097423"
     },
     "user_tz": -345
    },
    "id": "sqSWbocR3E5r"
   },
   "outputs": [],
   "source": [
    "import tensorflow as tf"
   ]
  },
  {
   "cell_type": "code",
   "execution_count": 34,
   "metadata": {
    "executionInfo": {
     "elapsed": 713,
     "status": "ok",
     "timestamp": 1672302742882,
     "user": {
      "displayName": "Roshan Subedi",
      "userId": "00027088330927097423"
     },
     "user_tz": -345
    },
    "id": "Gqmz0x353E5s"
   },
   "outputs": [],
   "source": [
    "dataset = tf.data.Dataset.from_tensor_slices((Xids, Xmask, labels))"
   ]
  },
  {
   "cell_type": "code",
   "execution_count": 35,
   "metadata": {
    "colab": {
     "base_uri": "https://localhost:8080/"
    },
    "executionInfo": {
     "elapsed": 9,
     "status": "ok",
     "timestamp": 1672302750269,
     "user": {
      "displayName": "Roshan Subedi",
      "userId": "00027088330927097423"
     },
     "user_tz": -345
    },
    "id": "lGe5Hqo6AsZ9",
    "outputId": "d8b79162-8de0-4caf-cc5f-89492ebac193"
   },
   "outputs": [
    {
     "data": {
      "text/plain": [
       "<TakeDataset shapes: ((512,), (512,), (5,)), types: (tf.int32, tf.int32, tf.float64)>"
      ]
     },
     "execution_count": 35,
     "metadata": {},
     "output_type": "execute_result"
    }
   ],
   "source": [
    "dataset.take(1)"
   ]
  },
  {
   "cell_type": "code",
   "execution_count": 36,
   "metadata": {
    "executionInfo": {
     "elapsed": 6,
     "status": "ok",
     "timestamp": 1672303798250,
     "user": {
      "displayName": "Roshan Subedi",
      "userId": "00027088330927097423"
     },
     "user_tz": -345
    },
    "id": "lgnK8RjdAuW8"
   },
   "outputs": [],
   "source": [
    "def map_function(input_ids, masks, labels):\n",
    "  return {'input_ids': input_ids,\n",
    "          'attention_mask': masks}, labels"
   ]
  },
  {
   "cell_type": "code",
   "execution_count": 37,
   "metadata": {
    "executionInfo": {
     "elapsed": 6,
     "status": "ok",
     "timestamp": 1672303825263,
     "user": {
      "displayName": "Roshan Subedi",
      "userId": "00027088330927097423"
     },
     "user_tz": -345
    },
    "id": "J4G0KzijEuJe"
   },
   "outputs": [],
   "source": [
    "dataset = dataset.map(map_function)"
   ]
  },
  {
   "cell_type": "code",
   "execution_count": 38,
   "metadata": {
    "colab": {
     "base_uri": "https://localhost:8080/"
    },
    "executionInfo": {
     "elapsed": 12,
     "status": "ok",
     "timestamp": 1672303831316,
     "user": {
      "displayName": "Roshan Subedi",
      "userId": "00027088330927097423"
     },
     "user_tz": -345
    },
    "id": "-zErufSJE0tC",
    "outputId": "c9bfbfce-fa72-4591-f214-9e2364475641"
   },
   "outputs": [
    {
     "data": {
      "text/plain": [
       "<TakeDataset shapes: ({input_ids: (512,), attention_mask: (512,)}, (5,)), types: ({input_ids: tf.int32, attention_mask: tf.int32}, tf.float64)>"
      ]
     },
     "execution_count": 38,
     "metadata": {},
     "output_type": "execute_result"
    }
   ],
   "source": [
    "dataset.take(1)"
   ]
  },
  {
   "cell_type": "markdown",
   "metadata": {
    "id": "KWM8Jp5AFX_Y"
   },
   "source": []
  },
  {
   "cell_type": "code",
   "execution_count": 39,
   "metadata": {
    "executionInfo": {
     "elapsed": 6,
     "status": "ok",
     "timestamp": 1672303991190,
     "user": {
      "displayName": "Roshan Subedi",
      "userId": "00027088330927097423"
     },
     "user_tz": -345
    },
    "id": "T76jLvjJFZfd"
   },
   "outputs": [],
   "source": [
    "batch_size = 16"
   ]
  },
  {
   "cell_type": "code",
   "execution_count": 40,
   "metadata": {
    "executionInfo": {
     "elapsed": 5,
     "status": "ok",
     "timestamp": 1672304069624,
     "user": {
      "displayName": "Roshan Subedi",
      "userId": "00027088330927097423"
     },
     "user_tz": -345
    },
    "id": "5TTId-S9FdVB"
   },
   "outputs": [],
   "source": [
    "dataset = dataset.shuffle(10000).batch(batch_size, drop_remainder = True)"
   ]
  },
  {
   "cell_type": "code",
   "execution_count": 41,
   "metadata": {
    "colab": {
     "base_uri": "https://localhost:8080/"
    },
    "executionInfo": {
     "elapsed": 11,
     "status": "ok",
     "timestamp": 1672304081615,
     "user": {
      "displayName": "Roshan Subedi",
      "userId": "00027088330927097423"
     },
     "user_tz": -345
    },
    "id": "LsmcOt2xFwS0",
    "outputId": "0fe76fdd-2751-4a39-8e4c-71ca4c39fb5d"
   },
   "outputs": [
    {
     "data": {
      "text/plain": [
       "<TakeDataset shapes: ({input_ids: (16, 512), attention_mask: (16, 512)}, (16, 5)), types: ({input_ids: tf.int32, attention_mask: tf.int32}, tf.float64)>"
      ]
     },
     "execution_count": 41,
     "metadata": {},
     "output_type": "execute_result"
    }
   ],
   "source": [
    "dataset.take(1)"
   ]
  },
  {
   "cell_type": "code",
   "execution_count": 42,
   "metadata": {
    "executionInfo": {
     "elapsed": 4,
     "status": "ok",
     "timestamp": 1672304153471,
     "user": {
      "displayName": "Roshan Subedi",
      "userId": "00027088330927097423"
     },
     "user_tz": -345
    },
    "id": "xiGTNnpYFzW-"
   },
   "outputs": [],
   "source": [
    "split = 0.9"
   ]
  },
  {
   "cell_type": "code",
   "execution_count": 43,
   "metadata": {
    "colab": {
     "base_uri": "https://localhost:8080/"
    },
    "executionInfo": {
     "elapsed": 8,
     "status": "ok",
     "timestamp": 1672304223711,
     "user": {
      "displayName": "Roshan Subedi",
      "userId": "00027088330927097423"
     },
     "user_tz": -345
    },
    "id": "h5n5_wQrGE_n",
    "outputId": "55bcfe92-ab58-430c-db63-c324c0faf773"
   },
   "outputs": [
    {
     "data": {
      "text/plain": [
       "8778"
      ]
     },
     "execution_count": 43,
     "metadata": {},
     "output_type": "execute_result"
    }
   ],
   "source": [
    "size = int(Xids.shape[0] / batch_size * split)\n",
    "size"
   ]
  },
  {
   "cell_type": "code",
   "execution_count": 44,
   "metadata": {
    "executionInfo": {
     "elapsed": 6,
     "status": "ok",
     "timestamp": 1672304270115,
     "user": {
      "displayName": "Roshan Subedi",
      "userId": "00027088330927097423"
     },
     "user_tz": -345
    },
    "id": "pVS37FSvGO-h"
   },
   "outputs": [],
   "source": [
    "train_ds = dataset.take(size)\n",
    "val_ds = dataset.skip(size)"
   ]
  },
  {
   "cell_type": "code",
   "execution_count": 45,
   "metadata": {
    "executionInfo": {
     "elapsed": 13749,
     "status": "ok",
     "timestamp": 1672305550332,
     "user": {
      "displayName": "Roshan Subedi",
      "userId": "00027088330927097423"
     },
     "user_tz": -345
    },
    "id": "3Lbpk5gRGhTW"
   },
   "outputs": [],
   "source": [
    "tf.data.experimental.save(train_ds, 'train')\n",
    "tf.data.experimental.save(val_ds, 'val')"
   ]
  },
  {
   "cell_type": "code",
   "execution_count": 46,
   "metadata": {
    "colab": {
     "base_uri": "https://localhost:8080/"
    },
    "executionInfo": {
     "elapsed": 7,
     "status": "ok",
     "timestamp": 1672305740164,
     "user": {
      "displayName": "Roshan Subedi",
      "userId": "00027088330927097423"
     },
     "user_tz": -345
    },
    "id": "tSHWHhlrGt_r",
    "outputId": "2d0ae00b-a175-41c1-8d8b-740ea9310966"
   },
   "outputs": [
    {
     "data": {
      "text/plain": [
       "({'input_ids': TensorSpec(shape=(16, 512), dtype=tf.int32, name=None),\n",
       "  'attention_mask': TensorSpec(shape=(16, 512), dtype=tf.int32, name=None)},\n",
       " TensorSpec(shape=(16, 5), dtype=tf.float64, name=None))"
      ]
     },
     "execution_count": 46,
     "metadata": {},
     "output_type": "execute_result"
    }
   ],
   "source": [
    "train_ds.element_spec"
   ]
  },
  {
   "cell_type": "code",
   "execution_count": 48,
   "metadata": {
    "colab": {
     "base_uri": "https://localhost:8080/"
    },
    "executionInfo": {
     "elapsed": 6,
     "status": "ok",
     "timestamp": 1672305768234,
     "user": {
      "displayName": "Roshan Subedi",
      "userId": "00027088330927097423"
     },
     "user_tz": -345
    },
    "id": "pjWjQNy5MGWQ",
    "outputId": "82565a4f-be8f-451c-aff6-a87d94c370e8"
   },
   "outputs": [
    {
     "data": {
      "text/plain": [
       "({'input_ids': TensorSpec(shape=(16, 512), dtype=tf.int32, name=None),\n",
       "  'attention_mask': TensorSpec(shape=(16, 512), dtype=tf.int32, name=None)},\n",
       " TensorSpec(shape=(16, 5), dtype=tf.float64, name=None))"
      ]
     },
     "execution_count": 48,
     "metadata": {},
     "output_type": "execute_result"
    }
   ],
   "source": [
    "val_ds.element_spec"
   ]
  },
  {
   "cell_type": "code",
   "execution_count": 49,
   "metadata": {
    "colab": {
     "base_uri": "https://localhost:8080/"
    },
    "executionInfo": {
     "elapsed": 7,
     "status": "ok",
     "timestamp": 1672305797412,
     "user": {
      "displayName": "Roshan Subedi",
      "userId": "00027088330927097423"
     },
     "user_tz": -345
    },
    "id": "U4jR_zICMPEr",
    "outputId": "7598c3db-0a92-4661-d7fd-42abf4b30382"
   },
   "outputs": [
    {
     "data": {
      "text/plain": [
       "True"
      ]
     },
     "execution_count": 49,
     "metadata": {},
     "output_type": "execute_result"
    }
   ],
   "source": [
    "val_ds.element_spec == train_ds.element_spec"
   ]
  },
  {
   "cell_type": "code",
   "execution_count": 50,
   "metadata": {
    "executionInfo": {
     "elapsed": 6,
     "status": "ok",
     "timestamp": 1672305866005,
     "user": {
      "displayName": "Roshan Subedi",
      "userId": "00027088330927097423"
     },
     "user_tz": -345
    },
    "id": "tQv3kXsRMWBm"
   },
   "outputs": [],
   "source": [
    "ds = tf.data.experimental.load('train', element_spec = train_ds.element_spec)"
   ]
  },
  {
   "cell_type": "code",
   "execution_count": 51,
   "metadata": {
    "colab": {
     "base_uri": "https://localhost:8080/"
    },
    "executionInfo": {
     "elapsed": 7,
     "status": "ok",
     "timestamp": 1672305881062,
     "user": {
      "displayName": "Roshan Subedi",
      "userId": "00027088330927097423"
     },
     "user_tz": -345
    },
    "id": "TF-Fl1mnMmzz",
    "outputId": "b0b4e4f7-1c8c-4000-cbd0-a414eaa8c94c"
   },
   "outputs": [
    {
     "data": {
      "text/plain": [
       "<TakeDataset shapes: ({input_ids: (16, 512), attention_mask: (16, 512)}, (16, 5)), types: ({input_ids: tf.int32, attention_mask: tf.int32}, tf.float64)>"
      ]
     },
     "execution_count": 51,
     "metadata": {},
     "output_type": "execute_result"
    }
   ],
   "source": [
    "ds.take(1)"
   ]
  },
  {
   "cell_type": "code",
   "execution_count": null,
   "metadata": {
    "id": "1PX13L1gMpLe"
   },
   "outputs": [],
   "source": []
  }
 ],
 "metadata": {
  "colab": {
   "provenance": []
  },
  "kernelspec": {
   "display_name": "conda_tensorflow2_p38",
   "language": "python",
   "name": "conda_tensorflow2_p38"
  },
  "language_info": {
   "codemirror_mode": {
    "name": "ipython",
    "version": 3
   },
   "file_extension": ".py",
   "mimetype": "text/x-python",
   "name": "python",
   "nbconvert_exporter": "python",
   "pygments_lexer": "ipython3",
   "version": "3.8.12"
  }
 },
 "nbformat": 4,
 "nbformat_minor": 4
}
