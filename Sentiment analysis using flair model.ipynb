{
 "cells": [
  {
   "cell_type": "code",
   "execution_count": 5,
   "metadata": {},
   "outputs": [
    {
     "name": "stdout",
     "output_type": "stream",
     "text": [
      "Requirement already satisfied: flair in c:\\users\\dell\\anaconda3\\envs\\ml\\lib\\site-packages (0.8)\n",
      "Requirement already satisfied: segtok>=1.5.7 in c:\\users\\dell\\anaconda3\\envs\\ml\\lib\\site-packages (from flair) (1.5.10)\n",
      "Requirement already satisfied: regex in c:\\users\\dell\\anaconda3\\envs\\ml\\lib\\site-packages (from flair) (2020.10.15)\n",
      "Requirement already satisfied: bpemb>=0.3.2 in c:\\users\\dell\\anaconda3\\envs\\ml\\lib\\site-packages (from flair) (0.3.3)\n",
      "Requirement already satisfied: ftfy in c:\\users\\dell\\anaconda3\\envs\\ml\\lib\\site-packages (from flair) (6.0.3)\n",
      "Requirement already satisfied: deprecated>=1.2.4 in c:\\users\\dell\\anaconda3\\envs\\ml\\lib\\site-packages (from flair) (1.2.12)\n",
      "Requirement already satisfied: sqlitedict>=1.6.0 in c:\\users\\dell\\anaconda3\\envs\\ml\\lib\\site-packages (from flair) (1.7.0)\n",
      "Requirement already satisfied: janome in c:\\users\\dell\\anaconda3\\envs\\ml\\lib\\site-packages (from flair) (0.4.1)\n",
      "Requirement already satisfied: torch>=1.5.0 in c:\\users\\dell\\anaconda3\\envs\\ml\\lib\\site-packages (from flair) (1.7.1)\n",
      "Requirement already satisfied: sentencepiece==0.1.95 in c:\\users\\dell\\anaconda3\\envs\\ml\\lib\\site-packages (from flair) (0.1.95)\n",
      "Requirement already satisfied: tabulate in c:\\users\\dell\\anaconda3\\envs\\ml\\lib\\site-packages (from flair) (0.8.9)\n",
      "Requirement already satisfied: hyperopt>=0.1.1 in c:\\users\\dell\\anaconda3\\envs\\ml\\lib\\site-packages (from flair) (0.2.5)\n",
      "Requirement already satisfied: tqdm>=4.26.0 in c:\\users\\dell\\anaconda3\\envs\\ml\\lib\\site-packages (from flair) (4.50.2)\n",
      "Requirement already satisfied: gdown==3.12.2 in c:\\users\\dell\\anaconda3\\envs\\ml\\lib\\site-packages (from flair) (3.12.2)\n",
      "Requirement already satisfied: lxml in c:\\users\\dell\\anaconda3\\envs\\ml\\lib\\site-packages (from flair) (4.6.1)\n",
      "Requirement already satisfied: langdetect in c:\\users\\dell\\anaconda3\\envs\\ml\\lib\\site-packages (from flair) (1.0.9)\n",
      "Requirement already satisfied: transformers>=4.0.0 in c:\\users\\dell\\anaconda3\\envs\\ml\\lib\\site-packages (from flair) (4.1.1)\n",
      "Requirement already satisfied: konoha<5.0.0,>=4.0.0 in c:\\users\\dell\\anaconda3\\envs\\ml\\lib\\site-packages (from flair) (4.6.5)\n",
      "Requirement already satisfied: matplotlib>=2.2.3 in c:\\users\\dell\\anaconda3\\envs\\ml\\lib\\site-packages (from flair) (3.3.2)\n",
      "Requirement already satisfied: python-dateutil>=2.6.1 in c:\\users\\dell\\anaconda3\\envs\\ml\\lib\\site-packages (from flair) (2.8.1)\n",
      "Requirement already satisfied: mpld3==0.3 in c:\\users\\dell\\anaconda3\\envs\\ml\\lib\\site-packages (from flair) (0.3)\n",
      "Requirement already satisfied: gensim<=3.8.3,>=3.4.0 in c:\\users\\dell\\anaconda3\\envs\\ml\\lib\\site-packages (from flair) (3.8.3)\n",
      "Requirement already satisfied: scikit-learn>=0.21.3 in c:\\users\\dell\\anaconda3\\envs\\ml\\lib\\site-packages (from flair) (0.23.2)\n",
      "Requirement already satisfied: huggingface-hub in c:\\users\\dell\\anaconda3\\envs\\ml\\lib\\site-packages (from flair) (0.0.9)\n",
      "Requirement already satisfied: numpy<1.20.0 in c:\\users\\dell\\anaconda3\\envs\\ml\\lib\\site-packages (from flair) (1.19.2)\n",
      "Requirement already satisfied: requests in c:\\users\\dell\\anaconda3\\envs\\ml\\lib\\site-packages (from bpemb>=0.3.2->flair) (2.24.0)\n",
      "Requirement already satisfied: wcwidth in c:\\users\\dell\\anaconda3\\envs\\ml\\lib\\site-packages (from ftfy->flair) (0.2.5)\n",
      "Requirement already satisfied: wrapt<2,>=1.10 in c:\\users\\dell\\anaconda3\\envs\\ml\\lib\\site-packages (from deprecated>=1.2.4->flair) (1.11.2)\n",
      "Requirement already satisfied: typing-extensions in c:\\users\\dell\\anaconda3\\envs\\ml\\lib\\site-packages (from torch>=1.5.0->flair) (3.7.4.3)\n",
      "Requirement already satisfied: cloudpickle in c:\\users\\dell\\anaconda3\\envs\\ml\\lib\\site-packages (from hyperopt>=0.1.1->flair) (1.6.0)\n",
      "Requirement already satisfied: networkx>=2.2 in c:\\users\\dell\\anaconda3\\envs\\ml\\lib\\site-packages (from hyperopt>=0.1.1->flair) (2.5)\n",
      "Requirement already satisfied: scipy in c:\\users\\dell\\anaconda3\\envs\\ml\\lib\\site-packages (from hyperopt>=0.1.1->flair) (1.5.2)\n",
      "Requirement already satisfied: future in c:\\users\\dell\\anaconda3\\envs\\ml\\lib\\site-packages (from hyperopt>=0.1.1->flair) (0.18.2)\n",
      "Requirement already satisfied: six in c:\\users\\dell\\anaconda3\\envs\\ml\\lib\\site-packages (from hyperopt>=0.1.1->flair) (1.15.0)\n",
      "Requirement already satisfied: filelock in c:\\users\\dell\\anaconda3\\envs\\ml\\lib\\site-packages (from gdown==3.12.2->flair) (3.0.12)\n",
      "Requirement already satisfied: packaging in c:\\users\\dell\\anaconda3\\envs\\ml\\lib\\site-packages (from transformers>=4.0.0->flair) (20.4)\n",
      "Requirement already satisfied: sacremoses in c:\\users\\dell\\anaconda3\\envs\\ml\\lib\\site-packages (from transformers>=4.0.0->flair) (0.0.45)\n",
      "Requirement already satisfied: tokenizers==0.9.4 in c:\\users\\dell\\anaconda3\\envs\\ml\\lib\\site-packages (from transformers>=4.0.0->flair) (0.9.4)\n",
      "Requirement already satisfied: overrides<4.0.0,>=3.0.0 in c:\\users\\dell\\anaconda3\\envs\\ml\\lib\\site-packages (from konoha<5.0.0,>=4.0.0->flair) (3.1.0)\n",
      "Requirement already satisfied: importlib-metadata<4.0.0,>=3.7.0 in c:\\users\\dell\\anaconda3\\envs\\ml\\lib\\site-packages (from konoha<5.0.0,>=4.0.0->flair) (3.10.1)\n",
      "Requirement already satisfied: certifi>=2020.06.20 in c:\\users\\dell\\anaconda3\\envs\\ml\\lib\\site-packages (from matplotlib>=2.2.3->flair) (2020.6.20)\n",
      "Requirement already satisfied: kiwisolver>=1.0.1 in c:\\users\\dell\\anaconda3\\envs\\ml\\lib\\site-packages (from matplotlib>=2.2.3->flair) (1.3.0)\n",
      "Requirement already satisfied: pillow>=6.2.0 in c:\\users\\dell\\anaconda3\\envs\\ml\\lib\\site-packages (from matplotlib>=2.2.3->flair) (8.0.1)\n",
      "Requirement already satisfied: pyparsing!=2.0.4,!=2.1.2,!=2.1.6,>=2.0.3 in c:\\users\\dell\\anaconda3\\envs\\ml\\lib\\site-packages (from matplotlib>=2.2.3->flair) (2.4.7)\n",
      "Requirement already satisfied: cycler>=0.10 in c:\\users\\dell\\anaconda3\\envs\\ml\\lib\\site-packages (from matplotlib>=2.2.3->flair) (0.10.0)\n",
      "Requirement already satisfied: smart-open>=1.8.1 in c:\\users\\dell\\anaconda3\\envs\\ml\\lib\\site-packages (from gensim<=3.8.3,>=3.4.0->flair) (3.0.0)\n",
      "Requirement already satisfied: Cython==0.29.14 in c:\\users\\dell\\anaconda3\\envs\\ml\\lib\\site-packages (from gensim<=3.8.3,>=3.4.0->flair) (0.29.14)\n",
      "Requirement already satisfied: joblib>=0.11 in c:\\users\\dell\\anaconda3\\envs\\ml\\lib\\site-packages (from scikit-learn>=0.21.3->flair) (0.17.0)\n",
      "Requirement already satisfied: threadpoolctl>=2.0.0 in c:\\users\\dell\\anaconda3\\envs\\ml\\lib\\site-packages (from scikit-learn>=0.21.3->flair) (2.1.0)\n",
      "Requirement already satisfied: idna<3,>=2.5 in c:\\users\\dell\\anaconda3\\envs\\ml\\lib\\site-packages (from requests->bpemb>=0.3.2->flair) (2.10)\n",
      "Requirement already satisfied: chardet<4,>=3.0.2 in c:\\users\\dell\\anaconda3\\envs\\ml\\lib\\site-packages (from requests->bpemb>=0.3.2->flair) (3.0.4)\n",
      "Requirement already satisfied: urllib3!=1.25.0,!=1.25.1,<1.26,>=1.21.1 in c:\\users\\dell\\anaconda3\\envs\\ml\\lib\\site-packages (from requests->bpemb>=0.3.2->flair) (1.25.11)\n",
      "Requirement already satisfied: decorator>=4.3.0 in c:\\users\\dell\\anaconda3\\envs\\ml\\lib\\site-packages (from networkx>=2.2->hyperopt>=0.1.1->flair) (4.4.2)\n",
      "Requirement already satisfied: click in c:\\users\\dell\\anaconda3\\envs\\ml\\lib\\site-packages (from sacremoses->transformers>=4.0.0->flair) (7.1.2)\n",
      "Requirement already satisfied: zipp>=0.5 in c:\\users\\dell\\anaconda3\\envs\\ml\\lib\\site-packages (from importlib-metadata<4.0.0,>=3.7.0->konoha<5.0.0,>=4.0.0->flair) (3.4.0)\n"
     ]
    }
   ],
   "source": [
    "!pip install flair"
   ]
  },
  {
   "cell_type": "markdown",
   "metadata": {},
   "source": [
    "# Steps\n",
    "1. Initialize the model\n",
    "2. TOkenization\n",
    "3. Process the text \n",
    "4. format the outputs"
   ]
  },
  {
   "cell_type": "code",
   "execution_count": 8,
   "metadata": {},
   "outputs": [
    {
     "name": "stdout",
     "output_type": "stream",
     "text": [
      "2022-12-05 07:23:11,263 https://nlp.informatik.hu-berlin.de/resources/models/sentiment-curated-distilbert/sentiment-en-mix-distillbert_4.pt not found in cache, downloading to C:\\Users\\DELL\\AppData\\Local\\Temp\\tmp2yzvoo0t\n"
     ]
    },
    {
     "name": "stderr",
     "output_type": "stream",
     "text": [
      "100%|████████████████████████████████████████████████████████████████| 265512723/265512723 [01:33<00:00, 2831018.39B/s]\n"
     ]
    },
    {
     "name": "stdout",
     "output_type": "stream",
     "text": [
      "2022-12-05 07:24:46,328 copying C:\\Users\\DELL\\AppData\\Local\\Temp\\tmp2yzvoo0t to cache at C:\\Users\\DELL\\.flair\\models\\sentiment-en-mix-distillbert_4.pt\n",
      "2022-12-05 07:24:46,676 removing temp file C:\\Users\\DELL\\AppData\\Local\\Temp\\tmp2yzvoo0t\n",
      "2022-12-05 07:24:46,717 loading file C:\\Users\\DELL\\.flair\\models\\sentiment-en-mix-distillbert_4.pt\n"
     ]
    },
    {
     "data": {
      "application/vnd.jupyter.widget-view+json": {
       "model_id": "130c85ea6ab24710810e2dbdbfe430df",
       "version_major": 2,
       "version_minor": 0
      },
      "text/plain": [
       "HBox(children=(HTML(value='Downloading'), FloatProgress(value=0.0, max=231508.0), HTML(value='')))"
      ]
     },
     "metadata": {},
     "output_type": "display_data"
    },
    {
     "name": "stdout",
     "output_type": "stream",
     "text": [
      "\n"
     ]
    },
    {
     "data": {
      "application/vnd.jupyter.widget-view+json": {
       "model_id": "fca9fa4bbc8449a49f0dca22bb6da3a5",
       "version_major": 2,
       "version_minor": 0
      },
      "text/plain": [
       "HBox(children=(HTML(value='Downloading'), FloatProgress(value=0.0, max=466062.0), HTML(value='')))"
      ]
     },
     "metadata": {},
     "output_type": "display_data"
    },
    {
     "name": "stdout",
     "output_type": "stream",
     "text": [
      "\n"
     ]
    }
   ],
   "source": [
    "import flair \n",
    "model = flair.models.TextClassifier.load('en-sentiment')"
   ]
  },
  {
   "cell_type": "code",
   "execution_count": 12,
   "metadata": {},
   "outputs": [
    {
     "data": {
      "text/plain": [
       "Sentence: \"I like you !\"   [− Tokens: 4]"
      ]
     },
     "execution_count": 12,
     "metadata": {},
     "output_type": "execute_result"
    }
   ],
   "source": [
    "text = 'I like you!'\n",
    "sentence = flair.data.Sentence(text)\n",
    "sentence"
   ]
  },
  {
   "cell_type": "code",
   "execution_count": 13,
   "metadata": {},
   "outputs": [
    {
     "data": {
      "text/plain": [
       "'I like you !'"
      ]
     },
     "execution_count": 13,
     "metadata": {},
     "output_type": "execute_result"
    }
   ],
   "source": [
    "sentence.to_tokenized_string()"
   ]
  },
  {
   "cell_type": "code",
   "execution_count": 14,
   "metadata": {},
   "outputs": [],
   "source": [
    "model.predict(sentence)"
   ]
  },
  {
   "cell_type": "code",
   "execution_count": 15,
   "metadata": {},
   "outputs": [
    {
     "data": {
      "text/plain": [
       "Sentence: \"I like you !\"   [− Tokens: 4  − Sentence-Labels: {'label': [POSITIVE (0.9928)]}]"
      ]
     },
     "execution_count": 15,
     "metadata": {},
     "output_type": "execute_result"
    }
   ],
   "source": [
    "sentence"
   ]
  },
  {
   "cell_type": "code",
   "execution_count": 20,
   "metadata": {},
   "outputs": [
    {
     "data": {
      "text/plain": [
       "Sentence: \"I kinda like you .\"   [− Tokens: 5]"
      ]
     },
     "execution_count": 20,
     "metadata": {},
     "output_type": "execute_result"
    }
   ],
   "source": [
    "text = \"I kinda like you.\"\n",
    "sentence = flair.data.Sentence(text)\n",
    "sentence"
   ]
  },
  {
   "cell_type": "code",
   "execution_count": 21,
   "metadata": {},
   "outputs": [
    {
     "data": {
      "text/plain": [
       "Sentence: \"I kinda like you .\"   [− Tokens: 5  − Sentence-Labels: {'label': [POSITIVE (0.9801)]}]"
      ]
     },
     "execution_count": 21,
     "metadata": {},
     "output_type": "execute_result"
    }
   ],
   "source": [
    "model.predict(sentence)\n",
    "sentence"
   ]
  },
  {
   "cell_type": "code",
   "execution_count": 22,
   "metadata": {},
   "outputs": [
    {
     "data": {
      "text/plain": [
       "[POSITIVE (0.9801)]"
      ]
     },
     "execution_count": 22,
     "metadata": {},
     "output_type": "execute_result"
    }
   ],
   "source": [
    "sentence.get_labels()"
   ]
  },
  {
   "cell_type": "code",
   "execution_count": 25,
   "metadata": {},
   "outputs": [
    {
     "name": "stdout",
     "output_type": "stream",
     "text": [
      "Help on Label in module flair.data object:\n",
      "\n",
      "class Label(builtins.object)\n",
      " |  Label(value: str, score: float = 1.0)\n",
      " |  \n",
      " |  This class represents a label. Each label has a value and optionally a confidence score. The\n",
      " |  score needs to be between 0.0 and 1.0. Default value for the score is 1.0.\n",
      " |  \n",
      " |  Methods defined here:\n",
      " |  \n",
      " |  __init__(self, value: str, score: float = 1.0)\n",
      " |      Initialize self.  See help(type(self)) for accurate signature.\n",
      " |  \n",
      " |  __repr__(self)\n",
      " |      Return repr(self).\n",
      " |  \n",
      " |  __str__(self)\n",
      " |      Return str(self).\n",
      " |  \n",
      " |  to_dict(self)\n",
      " |  \n",
      " |  ----------------------------------------------------------------------\n",
      " |  Data descriptors defined here:\n",
      " |  \n",
      " |  __dict__\n",
      " |      dictionary for instance variables (if defined)\n",
      " |  \n",
      " |  __weakref__\n",
      " |      list of weak references to the object (if defined)\n",
      " |  \n",
      " |  score\n",
      " |  \n",
      " |  value\n",
      "\n"
     ]
    }
   ],
   "source": [
    "help(sentence.get_labels()[0])"
   ]
  },
  {
   "cell_type": "code",
   "execution_count": 27,
   "metadata": {},
   "outputs": [
    {
     "data": {
      "text/plain": [
       "0.9801467061042786"
      ]
     },
     "execution_count": 27,
     "metadata": {},
     "output_type": "execute_result"
    }
   ],
   "source": [
    "sentence.get_labels()[0].score"
   ]
  },
  {
   "cell_type": "code",
   "execution_count": 29,
   "metadata": {},
   "outputs": [
    {
     "data": {
      "text/plain": [
       "'POSITIVE'"
      ]
     },
     "execution_count": 29,
     "metadata": {},
     "output_type": "execute_result"
    }
   ],
   "source": [
    "sentence.get_labels()[0].value"
   ]
  },
  {
   "cell_type": "code",
   "execution_count": null,
   "metadata": {},
   "outputs": [],
   "source": []
  }
 ],
 "metadata": {
  "kernelspec": {
   "display_name": "ML",
   "language": "python",
   "name": "ml"
  },
  "language_info": {
   "codemirror_mode": {
    "name": "ipython",
    "version": 3
   },
   "file_extension": ".py",
   "mimetype": "text/x-python",
   "name": "python",
   "nbconvert_exporter": "python",
   "pygments_lexer": "ipython3",
   "version": "3.8.5"
  }
 },
 "nbformat": 4,
 "nbformat_minor": 4
}
